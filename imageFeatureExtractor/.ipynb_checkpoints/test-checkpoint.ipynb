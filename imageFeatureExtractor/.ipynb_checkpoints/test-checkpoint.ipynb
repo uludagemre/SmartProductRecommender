{
 "cells": [
  {
   "cell_type": "code",
   "execution_count": 40,
   "metadata": {},
   "outputs": [],
   "source": [
    "import utils\n",
    "import loss\n",
    "import batchgen\n",
    "import models\n",
    "import numpy as np\n",
    "from tensorflow import keras\n",
    "from matplotlib import pyplot as plt\n",
    "from sklearn.model_selection import train_test_split\n",
    "\n",
    "import random \n",
    "from itertools import permutations"
   ]
  },
  {
   "cell_type": "code",
   "execution_count": 75,
   "metadata": {},
   "outputs": [],
   "source": [
    "# class TripletGenerator(keras.utils.Sequence):\n",
    "#         def __init__(self, X, Y, batch_size = 64):\n",
    "#             self.batch_size = batch_size\n",
    "#             self.anchor = X[0]\n",
    "#             self.positive = X[1]\n",
    "#             self.negative = X[2]\n",
    "#             self.labels = Y\n",
    "\n",
    "#         def __len__(self):\n",
    "#             return int(len(self.labels) / self.batch_size)\n",
    "\n",
    "#         def __getitem__(self, i):\n",
    "#             ret = []\n",
    "#             for i in range(self.batch_size):\n",
    "#                 apn = [self.anchor[i],\n",
    "#                        self.positive[i],\n",
    "#                        self.negative[i]]\n",
    "#                 ret.append(apn)\n",
    "#             ret = np.array(ret)\n",
    "#             anchor, positive, negative = ret[:, 0], ret[:, 1], ret[:, 2]\n",
    "#             dummy = np.zeros((self.batch_size, 1))\n",
    "#             return [anchor, positive, negative], dummy\n",
    "class TripletGenerator(keras.utils.Sequence):\n",
    "        def __init__(self, X, Y, ap_pairs= 10, an_pairs = 10, batch_size = 64):\n",
    "            self.batch_size = batch_size\n",
    "            self.ap_pairs = ap_pairs\n",
    "            self.an_pairs = an_pairs\n",
    "            # self.anchor = X[0]\n",
    "            # self.positive = X[1]\n",
    "            # self.negative = X[2]\n",
    "            self.images = X\n",
    "            self.labels = Y\n",
    "            self.unique_labels = np.unique(self.labels)\n",
    "            self.triplet_index = self.__generate_triplet_index()\n",
    "            np.random.shuffle(self.triplet_index)\n",
    "\n",
    "        def __generate_triplet_index(self):\n",
    "            triplet_index = [] # (anchor_id, positive_id, negative_id) \n",
    "            for class_id in self.unique_labels:\n",
    "                same_class_idx = list(np.where((self.labels == class_id))[0])\n",
    "                diff_class_idx = list(np.where(self.labels != class_id)[0])\n",
    "                same_class_perms = list(permutations(same_class_idx,2))\n",
    "                ap_idx = np.array(random.sample(same_class_perms, k=min(self.ap_pairs, len(same_class_perms)))) #Generating Anchor-Positive pairs\n",
    "                if len(ap_idx) < 2:\n",
    "                    continue\n",
    "                anchor_idx = ap_idx[:, 0]\n",
    "                pos_idx = ap_idx[:, 1]\n",
    "                neg_idx = np.array(random.sample(diff_class_idx, k=self.an_pairs))\n",
    "                assert len(anchor_idx) == len(pos_idx)\n",
    "                ap_len = min(self.ap_pairs, len(same_class_perms))\n",
    "                neg_len = self.an_pairs\n",
    "                for j in range(ap_len):\n",
    "                    aid, pid = anchor_idx[j], pos_idx[j]\n",
    "                    for k in range(neg_len):\n",
    "                        nid = neg_idx[k]\n",
    "                        triplet_index.append([aid, pid, nid])\n",
    "                \n",
    "            return np.array(triplet_index)\n",
    "\n",
    "        def __len__(self):\n",
    "            return int(len(self.labels) / self.batch_size)\n",
    "\n",
    "        def on_epoch_end(self):\n",
    "            np.random.shuffle(self.triplet_index)\n",
    "\n",
    "        def __getitem__(self, i):\n",
    "            ret = []\n",
    "            for j in range(i, i + self.batch_size):\n",
    "                aid, pid, nid = self.triplet_index[j]\n",
    "                anchor = self.images[aid]\n",
    "                positive = self.images[pid]\n",
    "                negative = self.images[nid]\n",
    "                ret.append([anchor, positive, negative])\n",
    "            ret = np.array(ret)\n",
    "            anchors, positives, negatives = ret[:, 0], ret[:, 1], ret[:, 2]\n",
    "            dummy = np.zeros((self.batch_size, 1))\n",
    "            return [anchors, positives, negatives], dummy\n"
   ]
  },
  {
   "cell_type": "code",
   "execution_count": 76,
   "metadata": {},
   "outputs": [],
   "source": [
    "NUM_PAIRS = 150\n",
    "INPUT_SHAPE = (400, 300, 3)\n",
    "FEATURE_SIZE = 64\n",
    "BATCH_SIZE = 64"
   ]
  },
  {
   "cell_type": "code",
   "execution_count": 7,
   "metadata": {},
   "outputs": [
    {
     "name": "stderr",
     "output_type": "stream",
     "text": [
      "100%|██████████| 9995/9995 [00:37<00:00, 267.55it/s]\n"
     ]
    }
   ],
   "source": [
    "X, Y, index = utils.load_data(\"data/labels/lcwaikiki_labels.csv\", resize = (300, 400), limit = None)"
   ]
  },
  {
   "cell_type": "code",
   "execution_count": 31,
   "metadata": {},
   "outputs": [
    {
     "data": {
      "text/plain": [
       "(9987, 400, 300, 3)"
      ]
     },
     "execution_count": 31,
     "metadata": {},
     "output_type": "execute_result"
    }
   ],
   "source": [
    "X.shape"
   ]
  },
  {
   "cell_type": "code",
   "execution_count": 32,
   "metadata": {},
   "outputs": [],
   "source": [
    "# Split train test\n",
    "X_train, X_test, Y_train, Y_test = train_test_split(X, Y, test_size = 0.2, random_state = 42)"
   ]
  },
  {
   "cell_type": "code",
   "execution_count": 77,
   "metadata": {},
   "outputs": [],
   "source": [
    "tripletgen_train = TripletGenerator(X_train, Y_train, ap_pairs = NUM_PAIRS, an_pairs = NUM_PAIRS, batch_size = BATCH_SIZE)\n",
    "tripletgen_test = TripletGenerator(X_test, Y_test, ap_pairs = NUM_PAIRS, an_pairs = NUM_PAIRS, batch_size = BATCH_SIZE)"
   ]
  },
  {
   "cell_type": "code",
   "execution_count": 79,
   "metadata": {},
   "outputs": [],
   "source": [
    "# Prepare network\n",
    "anchor_input = keras.layers.Input(INPUT_SHAPE, name='anchor_input')\n",
    "positive_input = keras.layers.Input(INPUT_SHAPE, name='positive_input')\n",
    "negative_input = keras.layers.Input(INPUT_SHAPE, name='negative_input')\n",
    "\n",
    "# Shared embedding layer for positive and negative items\n",
    "Shared_DNN = models.minixception(INPUT_SHAPE, feature_size = FEATURE_SIZE)\n",
    "\n",
    "# Individual outputs\n",
    "encoded_anchor = Shared_DNN(anchor_input)\n",
    "encoded_positive = Shared_DNN(positive_input)\n",
    "encoded_negative = Shared_DNN(negative_input)\n",
    "\n",
    "# Merged output layer\n",
    "merged_vector = keras.layers.concatenate([encoded_anchor, encoded_positive, encoded_negative], axis=-1, name='merged_layer')\n",
    "\n",
    "# Define optimizer\n",
    "adam_optim = keras.optimizers.Adam(lr=0.0001, beta_1=0.9, beta_2=0.999)\n",
    "\n",
    "# Setup and compile model\n",
    "model = keras.models.Model(inputs=[anchor_input,positive_input, negative_input], outputs=merged_vector)\n",
    "model.compile(loss=loss.triplet_loss, optimizer=adam_optim)"
   ]
  },
  {
   "cell_type": "code",
   "execution_count": 80,
   "metadata": {},
   "outputs": [
    {
     "name": "stdout",
     "output_type": "stream",
     "text": [
      "Model: \"model_5\"\n",
      "__________________________________________________________________________________________________\n",
      "Layer (type)                    Output Shape         Param #     Connected to                     \n",
      "==================================================================================================\n",
      "anchor_input (InputLayer)       [(None, 400, 300, 3) 0                                            \n",
      "__________________________________________________________________________________________________\n",
      "positive_input (InputLayer)     [(None, 400, 300, 3) 0                                            \n",
      "__________________________________________________________________________________________________\n",
      "negative_input (InputLayer)     [(None, 400, 300, 3) 0                                            \n",
      "__________________________________________________________________________________________________\n",
      "model_4 (Model)                 (None, 64)           61224       anchor_input[0][0]               \n",
      "                                                                 positive_input[0][0]             \n",
      "                                                                 negative_input[0][0]             \n",
      "__________________________________________________________________________________________________\n",
      "merged_layer (Concatenate)      (None, 192)          0           model_4[1][0]                    \n",
      "                                                                 model_4[2][0]                    \n",
      "                                                                 model_4[3][0]                    \n",
      "==================================================================================================\n",
      "Total params: 61,224\n",
      "Trainable params: 59,704\n",
      "Non-trainable params: 1,520\n",
      "__________________________________________________________________________________________________\n"
     ]
    }
   ],
   "source": [
    "model.summary()"
   ]
  },
  {
   "cell_type": "code",
   "execution_count": null,
   "metadata": {},
   "outputs": [
    {
     "name": "stdout",
     "output_type": "stream",
     "text": [
      "Epoch 1/3\n"
     ]
    }
   ],
   "source": [
    "# Train model\n",
    "model.fit_generator(\n",
    "    tripletgen_train,\n",
    "    validation_data=tripletgen_test, \n",
    "    epochs=3, verbose = 1)"
   ]
  },
  {
   "cell_type": "code",
   "execution_count": null,
   "metadata": {},
   "outputs": [],
   "source": []
  }
 ],
 "metadata": {
  "kernelspec": {
   "display_name": "Python 3",
   "language": "python",
   "name": "python3"
  },
  "language_info": {
   "codemirror_mode": {
    "name": "ipython",
    "version": 3
   },
   "file_extension": ".py",
   "mimetype": "text/x-python",
   "name": "python",
   "nbconvert_exporter": "python",
   "pygments_lexer": "ipython3",
   "version": "3.7.4"
  }
 },
 "nbformat": 4,
 "nbformat_minor": 2
}
