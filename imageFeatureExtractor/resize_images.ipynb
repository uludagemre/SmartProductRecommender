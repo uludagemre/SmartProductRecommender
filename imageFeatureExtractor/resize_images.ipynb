{
 "cells": [
  {
   "cell_type": "code",
   "execution_count": null,
   "metadata": {},
   "outputs": [],
   "source": [
    "import utils\n",
    "import numpy as np\n",
    "from matplotlib import pyplot as plt\n",
    "import cv2\n",
    "from tqdm import tqdm"
   ]
  },
  {
   "cell_type": "code",
   "execution_count": null,
   "metadata": {},
   "outputs": [],
   "source": [
    "# Save images in desired size\n",
    "LABELS_PATH = \"data/labels/lcwaikiki100k_labels.csv\"\n",
    "NEW_SIZE = (300, 400)\n",
    "# Load paths\n",
    "X_paths, Y, index = utils.load_data(LABELS_PATH, images_as_path = True)\n",
    "# Define vairables\n",
    "for fpath in tqdm(X_paths):\n",
    "    img = cv2.imread(fpath)\n",
    "    img = cv2.resize(img, NEW_SIZE)\n",
    "    cv2.imwrite(fpath, img)"
   ]
  },
  {
   "cell_type": "code",
   "execution_count": null,
   "metadata": {},
   "outputs": [],
   "source": [
    "img = cv2.imread(\"./sample_img.jpg\")\n",
    "# Convert color\n",
    "plt.imshow(img)"
   ]
  }
 ],
 "metadata": {
  "kernelspec": {
   "display_name": "Python 3",
   "language": "python",
   "name": "python3"
  },
  "language_info": {
   "codemirror_mode": {
    "name": "ipython",
    "version": 3
   },
   "file_extension": ".py",
   "mimetype": "text/x-python",
   "name": "python",
   "nbconvert_exporter": "python",
   "pygments_lexer": "ipython3",
   "version": "3.7.4"
  }
 },
 "nbformat": 4,
 "nbformat_minor": 2
}
